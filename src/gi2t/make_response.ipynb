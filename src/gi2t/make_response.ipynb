{
 "cells": [
  {
   "cell_type": "code",
   "execution_count": 1,
   "metadata": {},
   "outputs": [
    {
     "name": "stdout",
     "output_type": "stream",
     "text": [
      "loading annotations into memory...\n",
      "Done (t=0.05s)\n",
      "creating index...\n",
      "index created!\n"
     ]
    }
   ],
   "source": [
    "import json\n",
    "import os\n",
    "from pycocotools.coco import COCO\n",
    "\n",
    "git_captions_path = '../../data/git_embeddings/git_captions_5000.txt'\n",
    "\n",
    "ann_file = '../../data/coco-images/annotations/captions_val2017.json'\n",
    "\n",
    "coco = COCO(ann_file)\n",
    "image_ids = coco.getImgIds()[:5000]\n",
    "   \n",
    "img_urls = []\n",
    "for img_id in image_ids:\n",
    "    img = coco.loadImgs(img_id)[0]\n",
    "    img_urls.append(img['coco_url'])\n",
    "    "
   ]
  },
  {
   "cell_type": "code",
   "execution_count": 2,
   "metadata": {},
   "outputs": [],
   "source": [
    "response_dict = {}  \n",
    "captions = []\n",
    "with open(git_captions_path, 'r') as file:\n",
    "    for line in file:\n",
    "        captions.append(line.strip())"
   ]
  },
  {
   "cell_type": "code",
   "execution_count": 3,
   "metadata": {},
   "outputs": [
    {
     "data": {
      "text/plain": [
       "5000"
      ]
     },
     "execution_count": 3,
     "metadata": {},
     "output_type": "execute_result"
    }
   ],
   "source": [
    "len(captions)"
   ]
  },
  {
   "cell_type": "code",
   "execution_count": 4,
   "metadata": {},
   "outputs": [],
   "source": [
    "for i in range(len(img_urls)):\n",
    "    # drop the prefix from the image url\n",
    "    img_urls[i] = img_urls[i].split('http://images.cocodataset.org/val2017/')[1]\n",
    "    response_dict[img_urls[i]] = captions[i]      \n",
    "    \n",
    "with open('../../outputs/response_dict_git_5000.json', 'w') as file:\n",
    "    json.dump(response_dict, file, indent=4)"
   ]
  }
 ],
 "metadata": {
  "kernelspec": {
   "display_name": "image-search",
   "language": "python",
   "name": "python3"
  },
  "language_info": {
   "codemirror_mode": {
    "name": "ipython",
    "version": 3
   },
   "file_extension": ".py",
   "mimetype": "text/x-python",
   "name": "python",
   "nbconvert_exporter": "python",
   "pygments_lexer": "ipython3",
   "version": "3.11.9"
  }
 },
 "nbformat": 4,
 "nbformat_minor": 2
}
