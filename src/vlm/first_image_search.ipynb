{
 "cells": [
  {
   "cell_type": "code",
   "execution_count": 1,
   "metadata": {},
   "outputs": [
    {
     "name": "stderr",
     "output_type": "stream",
     "text": [
      "/usr/prakt/s0070/miniconda3/envs/llava/lib/python3.12/site-packages/tqdm/auto.py:21: TqdmWarning: IProgress not found. Please update jupyter and ipywidgets. See https://ipywidgets.readthedocs.io/en/stable/user_install.html\n",
      "  from .autonotebook import tqdm as notebook_tqdm\n"
     ]
    }
   ],
   "source": [
    "import faiss\n",
    "import json\n",
    "import pandas as pd\n",
    "from PIL import Image\n",
    "from sentence_transformers import SentenceTransformer\n",
    "from IPython.display import display\n",
    "import os\n",
    "import sys\n",
    "\n",
    "sys.path.append(\"../\")\n",
    "\n",
    "from data.coco import get_caption\n",
    "from services.settings import settings"
   ]
  },
  {
   "cell_type": "code",
   "execution_count": 2,
   "metadata": {},
   "outputs": [
    {
     "name": "stderr",
     "output_type": "stream",
     "text": [
      "/usr/prakt/s0070/miniconda3/envs/llava/lib/python3.12/site-packages/huggingface_hub/file_download.py:1132: FutureWarning: `resume_download` is deprecated and will be removed in version 1.0.0. Downloads always resume when possible. If you want to force a new download, use `force_download=True`.\n",
      "  warnings.warn(\n"
     ]
    }
   ],
   "source": [
    "model = SentenceTransformer('sentence-transformers/all-MiniLM-L6-v2')\n",
    "output_file = \"/usr/prakt/s0070/vlm-based-image-search/outputs/response_dict.json\"\n",
    "\n",
    "coco_path = os.path.join(settings.data_dir, \"coco/images/val2017/\")\n",
    "\n",
    "response = json.load(open(output_file))\n",
    "captions = list(response.values())\n",
    "files = list(response.keys())"
   ]
  },
  {
   "cell_type": "markdown",
   "metadata": {},
   "source": [
    "# Methods"
   ]
  },
  {
   "cell_type": "code",
   "execution_count": 15,
   "metadata": {},
   "outputs": [],
   "source": [
    "def encode_sentences(sentences):\n",
    "    sentence_embeddings = model.encode(sentences)\n",
    "    return sentence_embeddings\n",
    "\n",
    "def get_filenames(indices):\n",
    "    return [files[i] for i in indices]\n",
    "\n",
    "def create_gt_captions_dict(files):\n",
    "    return {file: get_caption(file) for file in files}\n",
    "\n",
    "def display_file(filename):\n",
    "    display(Image.open(coco_path+filename))\n",
    "    \n",
    "def create_index(sentence_embeddings):\n",
    "    d = sentence_embeddings.shape[1]\n",
    "    index = faiss.IndexFlatL2(d)\n",
    "    index.add(sentence_embeddings)\n",
    "    print(\"Index created with {} sentences\".format(index.ntotal))\n",
    "    return index\n",
    "\n",
    "def search_index(index, query, k):\n",
    "    query_embedding = encode_sentences([query])\n",
    "    D, I = index.search(query_embedding, k)\n",
    "    return D, I"
   ]
  },
  {
   "cell_type": "markdown",
   "metadata": {},
   "source": [
    "# Search"
   ]
  },
  {
   "cell_type": "code",
   "execution_count": 7,
   "metadata": {},
   "outputs": [
    {
     "name": "stdout",
     "output_type": "stream",
     "text": [
      "Index created with 500 sentences\n"
     ]
    }
   ],
   "source": [
    "caption_embeddings = encode_sentences(captions)\n",
    "index = create_index(caption_embeddings)"
   ]
  },
  {
   "cell_type": "code",
   "execution_count": 16,
   "metadata": {},
   "outputs": [
    {
     "name": "stdout",
     "output_type": "stream",
     "text": [
      "Index created with 500 sentences\n"
     ]
    }
   ],
   "source": [
    "gt_dict = create_gt_captions_dict(files)\n",
    "git_embeddings = encode_sentences(list(gt_dict.values()))\n",
    "gt_index = create_index(git_embeddings)"
   ]
  },
  {
   "cell_type": "code",
   "execution_count": 29,
   "metadata": {},
   "outputs": [],
   "source": [
    "query = \"Bathroom environment\"\n",
    "D, I = search_index(index, query, k=10)\n",
    "gt_D, gt_I = search_index(gt_index, query, k=10)"
   ]
  },
  {
   "cell_type": "markdown",
   "metadata": {},
   "source": [
    "# Search with predicted captions"
   ]
  },
  {
   "cell_type": "code",
   "execution_count": null,
   "metadata": {},
   "outputs": [],
   "source": [
    "retrieved_files = get_filenames(I[0])\n",
    "for file in retrieved_files:\n",
    "    display_file(file)\n",
    "    print(\"Predicted caption: \", response[file])\n",
    "    print(\"Actual caption: \", get_caption(file))\n",
    "    print()\n",
    "    print(\"\\n\")"
   ]
  },
  {
   "cell_type": "markdown",
   "metadata": {},
   "source": [
    "# Search with ground truth captions"
   ]
  },
  {
   "cell_type": "code",
   "execution_count": null,
   "metadata": {},
   "outputs": [],
   "source": [
    "gt_retrieved_files = get_filenames(gt_I[0])\n",
    "for file in gt_retrieved_files:\n",
    "    display_file(file)\n",
    "    print(\"Predicted caption: \", response[file])\n",
    "    print(\"Actual caption: \", get_caption(file))\n",
    "    print()\n",
    "    print(\"\\n\")"
   ]
  },
  {
   "cell_type": "markdown",
   "metadata": {},
   "source": [
    "# Eval"
   ]
  },
  {
   "cell_type": "code",
   "execution_count": 38,
   "metadata": {},
   "outputs": [
    {
     "data": {
      "text/plain": [
       "6"
      ]
     },
     "execution_count": 38,
     "metadata": {},
     "output_type": "execute_result"
    }
   ],
   "source": [
    "len(list(set(retrieved_files) & set(gt_retrieved_files))) # 6"
   ]
  },
  {
   "cell_type": "code",
   "execution_count": null,
   "metadata": {},
   "outputs": [],
   "source": []
  }
 ],
 "metadata": {
  "kernelspec": {
   "display_name": "llava",
   "language": "python",
   "name": "python3"
  },
  "language_info": {
   "codemirror_mode": {
    "name": "ipython",
    "version": 3
   },
   "file_extension": ".py",
   "mimetype": "text/x-python",
   "name": "python",
   "nbconvert_exporter": "python",
   "pygments_lexer": "ipython3",
   "version": "3.12.3"
  }
 },
 "nbformat": 4,
 "nbformat_minor": 2
}
